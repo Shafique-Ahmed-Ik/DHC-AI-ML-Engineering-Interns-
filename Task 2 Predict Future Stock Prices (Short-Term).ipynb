{
 "cells": [
  {
   "cell_type": "code",
   "execution_count": null,
   "id": "2d9ca5c3-ceb3-44e8-baeb-d72dac200ae5",
   "metadata": {},
   "outputs": [],
   "source": [
    "import yfinance as yf\n",
    "!pip install yfinance\n",
    "import pandas as pd\n",
    "from sklearn.model_selection import train_test_split\n",
    "from sklearn.linear_model import LinearRegression\n",
    "import matplotlib.pyplot as plt\n",
    "\n",
    "data = yf.download('AAPL', start='2023-01-01', end='2023-12-31')\n",
    "data['Target'] = data['Close'].shift(-1)\n",
    "data.dropna(inplace=True)\n",
    "\n",
    "X = data[['Open', 'High', 'Low', 'Volume']]\n",
    "y = data['Target']\n",
    "\n",
    "X_train, X_test, y_train, y_test = train_test_split(X, y, test_size=0.2, shuffle=False)\n",
    "model = LinearRegression()\n",
    "model.fit(X_train, y_train)\n",
    "pred = model.predict(X_test)\n",
    "\n",
    "plt.plot(y_test.values, label='Actual')\n",
    "plt.plot(pred, label='Predicted')\n",
    "plt.legend()\n",
    "plt.show()\n"
   ]
  },
  {
   "cell_type": "code",
   "execution_count": null,
   "id": "5c910fcb-64a3-4f72-a5ad-676812e2b4e6",
   "metadata": {},
   "outputs": [],
   "source": [
    "\n"
   ]
  },
  {
   "cell_type": "code",
   "execution_count": null,
   "id": "140dba09-effd-4706-9c19-54201e3432a8",
   "metadata": {},
   "outputs": [],
   "source": []
  }
 ],
 "metadata": {
  "kernelspec": {
   "display_name": "Python 3 (ipykernel)",
   "language": "python",
   "name": "python3"
  },
  "language_info": {
   "codemirror_mode": {
    "name": "ipython",
    "version": 3
   },
   "file_extension": ".py",
   "mimetype": "text/x-python",
   "name": "python",
   "nbconvert_exporter": "python",
   "pygments_lexer": "ipython3",
   "version": "3.12.4"
  }
 },
 "nbformat": 4,
 "nbformat_minor": 5
}
